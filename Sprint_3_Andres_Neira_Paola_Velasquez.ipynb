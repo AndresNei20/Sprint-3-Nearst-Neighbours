{
  "nbformat": 4,
  "nbformat_minor": 0,
  "metadata": {
    "colab": {
      "provenance": [],
      "authorship_tag": "ABX9TyMMxHVAJz0BZzrJfOF/pBQB",
      "include_colab_link": true
    },
    "kernelspec": {
      "name": "python3",
      "display_name": "Python 3"
    },
    "language_info": {
      "name": "python"
    },
    "widgets": {
      "application/vnd.jupyter.widget-state+json": {
        "296d6820d7bf4b1c873b49851ac01140": {
          "model_module": "@jupyter-widgets/controls",
          "model_name": "DropdownModel",
          "model_module_version": "1.5.0",
          "state": {
            "_dom_classes": [],
            "_model_module": "@jupyter-widgets/controls",
            "_model_module_version": "1.5.0",
            "_model_name": "DropdownModel",
            "_options_labels": [
              "Isaac Calle Cardozo",
              "Andres Neira",
              "Juan David Avila",
              "Santiago Perez",
              "Eduardo Mejia",
              "Juan Sebastián Silva",
              "Sebastian Gonzalez",
              "Jaime Vargas",
              "Sebastian Romero",
              "Lina Isabella Manjarrez Pantoja",
              "Juan Pablo Marín",
              "Santiago Cuadros Mateus",
              "Alejandra Ordoñez",
              "Juan David Santacruz",
              "Laura Mendieta",
              "Isabella Palma",
              "Juan David Valencia",
              "Anne Solarte",
              "Andrea Oviedo",
              "Isabella Naranjo",
              "Monk",
              "Majo Hurtado"
            ],
            "_view_count": null,
            "_view_module": "@jupyter-widgets/controls",
            "_view_module_version": "1.5.0",
            "_view_name": "DropdownView",
            "description": "Usuario A:",
            "description_tooltip": null,
            "disabled": false,
            "index": 1,
            "layout": "IPY_MODEL_862b58893b43422c99e6326a53db389a",
            "style": "IPY_MODEL_42ce0c1a12c54b69a320c95f4dc6a17e"
          }
        },
        "862b58893b43422c99e6326a53db389a": {
          "model_module": "@jupyter-widgets/base",
          "model_name": "LayoutModel",
          "model_module_version": "1.2.0",
          "state": {
            "_model_module": "@jupyter-widgets/base",
            "_model_module_version": "1.2.0",
            "_model_name": "LayoutModel",
            "_view_count": null,
            "_view_module": "@jupyter-widgets/base",
            "_view_module_version": "1.2.0",
            "_view_name": "LayoutView",
            "align_content": null,
            "align_items": null,
            "align_self": null,
            "border": null,
            "bottom": null,
            "display": null,
            "flex": null,
            "flex_flow": null,
            "grid_area": null,
            "grid_auto_columns": null,
            "grid_auto_flow": null,
            "grid_auto_rows": null,
            "grid_column": null,
            "grid_gap": null,
            "grid_row": null,
            "grid_template_areas": null,
            "grid_template_columns": null,
            "grid_template_rows": null,
            "height": null,
            "justify_content": null,
            "justify_items": null,
            "left": null,
            "margin": null,
            "max_height": null,
            "max_width": null,
            "min_height": null,
            "min_width": null,
            "object_fit": null,
            "object_position": null,
            "order": null,
            "overflow": null,
            "overflow_x": null,
            "overflow_y": null,
            "padding": null,
            "right": null,
            "top": null,
            "visibility": null,
            "width": null
          }
        },
        "42ce0c1a12c54b69a320c95f4dc6a17e": {
          "model_module": "@jupyter-widgets/controls",
          "model_name": "DescriptionStyleModel",
          "model_module_version": "1.5.0",
          "state": {
            "_model_module": "@jupyter-widgets/controls",
            "_model_module_version": "1.5.0",
            "_model_name": "DescriptionStyleModel",
            "_view_count": null,
            "_view_module": "@jupyter-widgets/base",
            "_view_module_version": "1.2.0",
            "_view_name": "StyleView",
            "description_width": ""
          }
        },
        "a733a6d1ef8b477b8192e47742bdb0ac": {
          "model_module": "@jupyter-widgets/controls",
          "model_name": "DropdownModel",
          "model_module_version": "1.5.0",
          "state": {
            "_dom_classes": [],
            "_model_module": "@jupyter-widgets/controls",
            "_model_module_version": "1.5.0",
            "_model_name": "DropdownModel",
            "_options_labels": [
              "Isaac Calle Cardozo",
              "Andres Neira",
              "Juan David Avila",
              "Santiago Perez",
              "Eduardo Mejia",
              "Juan Sebastián Silva",
              "Sebastian Gonzalez",
              "Jaime Vargas",
              "Sebastian Romero",
              "Lina Isabella Manjarrez Pantoja",
              "Juan Pablo Marín",
              "Santiago Cuadros Mateus",
              "Alejandra Ordoñez",
              "Juan David Santacruz",
              "Laura Mendieta",
              "Isabella Palma",
              "Juan David Valencia",
              "Anne Solarte",
              "Andrea Oviedo",
              "Isabella Naranjo",
              "Monk",
              "Majo Hurtado"
            ],
            "_view_count": null,
            "_view_module": "@jupyter-widgets/controls",
            "_view_module_version": "1.5.0",
            "_view_name": "DropdownView",
            "description": "Usuario B:",
            "description_tooltip": null,
            "disabled": false,
            "index": 20,
            "layout": "IPY_MODEL_fa2553d4582e422fa7d2faefd76b5df2",
            "style": "IPY_MODEL_54ba08fe14c64ec7a621bf1cfa0eb781"
          }
        },
        "fa2553d4582e422fa7d2faefd76b5df2": {
          "model_module": "@jupyter-widgets/base",
          "model_name": "LayoutModel",
          "model_module_version": "1.2.0",
          "state": {
            "_model_module": "@jupyter-widgets/base",
            "_model_module_version": "1.2.0",
            "_model_name": "LayoutModel",
            "_view_count": null,
            "_view_module": "@jupyter-widgets/base",
            "_view_module_version": "1.2.0",
            "_view_name": "LayoutView",
            "align_content": null,
            "align_items": null,
            "align_self": null,
            "border": null,
            "bottom": null,
            "display": null,
            "flex": null,
            "flex_flow": null,
            "grid_area": null,
            "grid_auto_columns": null,
            "grid_auto_flow": null,
            "grid_auto_rows": null,
            "grid_column": null,
            "grid_gap": null,
            "grid_row": null,
            "grid_template_areas": null,
            "grid_template_columns": null,
            "grid_template_rows": null,
            "height": null,
            "justify_content": null,
            "justify_items": null,
            "left": null,
            "margin": null,
            "max_height": null,
            "max_width": null,
            "min_height": null,
            "min_width": null,
            "object_fit": null,
            "object_position": null,
            "order": null,
            "overflow": null,
            "overflow_x": null,
            "overflow_y": null,
            "padding": null,
            "right": null,
            "top": null,
            "visibility": null,
            "width": null
          }
        },
        "54ba08fe14c64ec7a621bf1cfa0eb781": {
          "model_module": "@jupyter-widgets/controls",
          "model_name": "DescriptionStyleModel",
          "model_module_version": "1.5.0",
          "state": {
            "_model_module": "@jupyter-widgets/controls",
            "_model_module_version": "1.5.0",
            "_model_name": "DescriptionStyleModel",
            "_view_count": null,
            "_view_module": "@jupyter-widgets/base",
            "_view_module_version": "1.2.0",
            "_view_name": "StyleView",
            "description_width": ""
          }
        },
        "2283fb76fc2d4f6fadd42d62a1cbb09a": {
          "model_module": "@jupyter-widgets/controls",
          "model_name": "ButtonModel",
          "model_module_version": "1.5.0",
          "state": {
            "_dom_classes": [],
            "_model_module": "@jupyter-widgets/controls",
            "_model_module_version": "1.5.0",
            "_model_name": "ButtonModel",
            "_view_count": null,
            "_view_module": "@jupyter-widgets/controls",
            "_view_module_version": "1.5.0",
            "_view_name": "ButtonView",
            "button_style": "",
            "description": "Calcular Similitud",
            "disabled": false,
            "icon": "",
            "layout": "IPY_MODEL_4d9c12b8914a415ab48a0ef1255ee8d9",
            "style": "IPY_MODEL_ad0c7008f1ef45a7bf55e893bc2d9fa7",
            "tooltip": ""
          }
        },
        "4d9c12b8914a415ab48a0ef1255ee8d9": {
          "model_module": "@jupyter-widgets/base",
          "model_name": "LayoutModel",
          "model_module_version": "1.2.0",
          "state": {
            "_model_module": "@jupyter-widgets/base",
            "_model_module_version": "1.2.0",
            "_model_name": "LayoutModel",
            "_view_count": null,
            "_view_module": "@jupyter-widgets/base",
            "_view_module_version": "1.2.0",
            "_view_name": "LayoutView",
            "align_content": null,
            "align_items": null,
            "align_self": null,
            "border": null,
            "bottom": null,
            "display": null,
            "flex": null,
            "flex_flow": null,
            "grid_area": null,
            "grid_auto_columns": null,
            "grid_auto_flow": null,
            "grid_auto_rows": null,
            "grid_column": null,
            "grid_gap": null,
            "grid_row": null,
            "grid_template_areas": null,
            "grid_template_columns": null,
            "grid_template_rows": null,
            "height": null,
            "justify_content": null,
            "justify_items": null,
            "left": null,
            "margin": null,
            "max_height": null,
            "max_width": null,
            "min_height": null,
            "min_width": null,
            "object_fit": null,
            "object_position": null,
            "order": null,
            "overflow": null,
            "overflow_x": null,
            "overflow_y": null,
            "padding": null,
            "right": null,
            "top": null,
            "visibility": null,
            "width": null
          }
        },
        "ad0c7008f1ef45a7bf55e893bc2d9fa7": {
          "model_module": "@jupyter-widgets/controls",
          "model_name": "ButtonStyleModel",
          "model_module_version": "1.5.0",
          "state": {
            "_model_module": "@jupyter-widgets/controls",
            "_model_module_version": "1.5.0",
            "_model_name": "ButtonStyleModel",
            "_view_count": null,
            "_view_module": "@jupyter-widgets/base",
            "_view_module_version": "1.2.0",
            "_view_name": "StyleView",
            "button_color": null,
            "font_weight": ""
          }
        },
        "4883ca6863a44627b4d3ab3ffbb8ad3c": {
          "model_module": "@jupyter-widgets/output",
          "model_name": "OutputModel",
          "model_module_version": "1.0.0",
          "state": {
            "_dom_classes": [],
            "_model_module": "@jupyter-widgets/output",
            "_model_module_version": "1.0.0",
            "_model_name": "OutputModel",
            "_view_count": null,
            "_view_module": "@jupyter-widgets/output",
            "_view_module_version": "1.0.0",
            "_view_name": "OutputView",
            "layout": "IPY_MODEL_2ffce594e006461f85bf193f83ffc561",
            "msg_id": "",
            "outputs": [
              {
                "output_type": "stream",
                "name": "stdout",
                "text": [
                  "Similitud entre Andres Neira y Monk: 0.9367\n"
                ]
              }
            ]
          }
        },
        "2ffce594e006461f85bf193f83ffc561": {
          "model_module": "@jupyter-widgets/base",
          "model_name": "LayoutModel",
          "model_module_version": "1.2.0",
          "state": {
            "_model_module": "@jupyter-widgets/base",
            "_model_module_version": "1.2.0",
            "_model_name": "LayoutModel",
            "_view_count": null,
            "_view_module": "@jupyter-widgets/base",
            "_view_module_version": "1.2.0",
            "_view_name": "LayoutView",
            "align_content": null,
            "align_items": null,
            "align_self": null,
            "border": null,
            "bottom": null,
            "display": null,
            "flex": null,
            "flex_flow": null,
            "grid_area": null,
            "grid_auto_columns": null,
            "grid_auto_flow": null,
            "grid_auto_rows": null,
            "grid_column": null,
            "grid_gap": null,
            "grid_row": null,
            "grid_template_areas": null,
            "grid_template_columns": null,
            "grid_template_rows": null,
            "height": null,
            "justify_content": null,
            "justify_items": null,
            "left": null,
            "margin": null,
            "max_height": null,
            "max_width": null,
            "min_height": null,
            "min_width": null,
            "object_fit": null,
            "object_position": null,
            "order": null,
            "overflow": null,
            "overflow_x": null,
            "overflow_y": null,
            "padding": null,
            "right": null,
            "top": null,
            "visibility": null,
            "width": null
          }
        },
        "0666b4f34bb64a77af150bb497ee1309": {
          "model_module": "@jupyter-widgets/controls",
          "model_name": "DropdownModel",
          "model_module_version": "1.5.0",
          "state": {
            "_dom_classes": [],
            "_model_module": "@jupyter-widgets/controls",
            "_model_module_version": "1.5.0",
            "_model_name": "DropdownModel",
            "_options_labels": [
              "Isaac Calle Cardozo",
              "Andres Neira",
              "Juan David Avila",
              "Santiago Perez",
              "Eduardo Mejia",
              "Juan Sebastián Silva",
              "Sebastian Gonzalez",
              "Jaime Vargas",
              "Sebastian Romero",
              "Lina Isabella Manjarrez Pantoja",
              "Juan Pablo Marín",
              "Santiago Cuadros Mateus",
              "Alejandra Ordoñez",
              "Juan David Santacruz",
              "Laura Mendieta",
              "Isabella Palma",
              "Juan David Valencia",
              "Anne Solarte",
              "Andrea Oviedo",
              "Isabella Naranjo",
              "Monk",
              "Majo Hurtado"
            ],
            "_view_count": null,
            "_view_module": "@jupyter-widgets/controls",
            "_view_module_version": "1.5.0",
            "_view_name": "DropdownView",
            "description": "Usuario:",
            "description_tooltip": null,
            "disabled": false,
            "index": 20,
            "layout": "IPY_MODEL_81d728abc1954885ab9201258a5cf657",
            "style": "IPY_MODEL_8657922cccda4820ae922d5415096a1b"
          }
        },
        "81d728abc1954885ab9201258a5cf657": {
          "model_module": "@jupyter-widgets/base",
          "model_name": "LayoutModel",
          "model_module_version": "1.2.0",
          "state": {
            "_model_module": "@jupyter-widgets/base",
            "_model_module_version": "1.2.0",
            "_model_name": "LayoutModel",
            "_view_count": null,
            "_view_module": "@jupyter-widgets/base",
            "_view_module_version": "1.2.0",
            "_view_name": "LayoutView",
            "align_content": null,
            "align_items": null,
            "align_self": null,
            "border": null,
            "bottom": null,
            "display": null,
            "flex": null,
            "flex_flow": null,
            "grid_area": null,
            "grid_auto_columns": null,
            "grid_auto_flow": null,
            "grid_auto_rows": null,
            "grid_column": null,
            "grid_gap": null,
            "grid_row": null,
            "grid_template_areas": null,
            "grid_template_columns": null,
            "grid_template_rows": null,
            "height": null,
            "justify_content": null,
            "justify_items": null,
            "left": null,
            "margin": null,
            "max_height": null,
            "max_width": null,
            "min_height": null,
            "min_width": null,
            "object_fit": null,
            "object_position": null,
            "order": null,
            "overflow": null,
            "overflow_x": null,
            "overflow_y": null,
            "padding": null,
            "right": null,
            "top": null,
            "visibility": null,
            "width": null
          }
        },
        "8657922cccda4820ae922d5415096a1b": {
          "model_module": "@jupyter-widgets/controls",
          "model_name": "DescriptionStyleModel",
          "model_module_version": "1.5.0",
          "state": {
            "_model_module": "@jupyter-widgets/controls",
            "_model_module_version": "1.5.0",
            "_model_name": "DescriptionStyleModel",
            "_view_count": null,
            "_view_module": "@jupyter-widgets/base",
            "_view_module_version": "1.2.0",
            "_view_name": "StyleView",
            "description_width": ""
          }
        },
        "cfb97e9e6f2e40e98c10d3a7eebbdee6": {
          "model_module": "@jupyter-widgets/controls",
          "model_name": "ButtonModel",
          "model_module_version": "1.5.0",
          "state": {
            "_dom_classes": [],
            "_model_module": "@jupyter-widgets/controls",
            "_model_module_version": "1.5.0",
            "_model_name": "ButtonModel",
            "_view_count": null,
            "_view_module": "@jupyter-widgets/controls",
            "_view_module_version": "1.5.0",
            "_view_name": "ButtonView",
            "button_style": "primary",
            "description": "Actualizar Comparación",
            "disabled": false,
            "icon": "",
            "layout": "IPY_MODEL_b6645ef71ddc430faeedf11cd86cf0f6",
            "style": "IPY_MODEL_24076b0ad93f4f4eac2450ff363c81cc",
            "tooltip": ""
          }
        },
        "b6645ef71ddc430faeedf11cd86cf0f6": {
          "model_module": "@jupyter-widgets/base",
          "model_name": "LayoutModel",
          "model_module_version": "1.2.0",
          "state": {
            "_model_module": "@jupyter-widgets/base",
            "_model_module_version": "1.2.0",
            "_model_name": "LayoutModel",
            "_view_count": null,
            "_view_module": "@jupyter-widgets/base",
            "_view_module_version": "1.2.0",
            "_view_name": "LayoutView",
            "align_content": null,
            "align_items": null,
            "align_self": null,
            "border": null,
            "bottom": null,
            "display": null,
            "flex": null,
            "flex_flow": null,
            "grid_area": null,
            "grid_auto_columns": null,
            "grid_auto_flow": null,
            "grid_auto_rows": null,
            "grid_column": null,
            "grid_gap": null,
            "grid_row": null,
            "grid_template_areas": null,
            "grid_template_columns": null,
            "grid_template_rows": null,
            "height": null,
            "justify_content": null,
            "justify_items": null,
            "left": null,
            "margin": null,
            "max_height": null,
            "max_width": null,
            "min_height": null,
            "min_width": null,
            "object_fit": null,
            "object_position": null,
            "order": null,
            "overflow": null,
            "overflow_x": null,
            "overflow_y": null,
            "padding": null,
            "right": null,
            "top": null,
            "visibility": null,
            "width": null
          }
        },
        "24076b0ad93f4f4eac2450ff363c81cc": {
          "model_module": "@jupyter-widgets/controls",
          "model_name": "ButtonStyleModel",
          "model_module_version": "1.5.0",
          "state": {
            "_model_module": "@jupyter-widgets/controls",
            "_model_module_version": "1.5.0",
            "_model_name": "ButtonStyleModel",
            "_view_count": null,
            "_view_module": "@jupyter-widgets/base",
            "_view_module_version": "1.2.0",
            "_view_name": "StyleView",
            "button_color": null,
            "font_weight": ""
          }
        }
      }
    }
  },
  "cells": [
    {
      "cell_type": "markdown",
      "metadata": {
        "id": "view-in-github",
        "colab_type": "text"
      },
      "source": [
        "<a href=\"https://colab.research.google.com/github/AndresNei20/Sprint-3-Nearst-Neighbours/blob/main/Sprint_3_Andres_Neira_Paola_Velasquez.ipynb\" target=\"_parent\"><img src=\"https://colab.research.google.com/assets/colab-badge.svg\" alt=\"Open In Colab\"/></a>"
      ]
    },
    {
      "cell_type": "markdown",
      "source": [
        "# Sprint 3 - Recomendación\n",
        "**Interacción Sociotecnológica**\n",
        "**Jose Andres Moncada Quintero**\n",
        "En este ejercicio vamos a implementar un sistema muy simple de recomendación de personas\n",
        "y de características usando el algoritmo K Nearest Neighbours (KNN). Este algoritmo es\n",
        "1\n",
        "bastante común en sistemas de interacción socio tecnológica para encontrar usuarios similares\n",
        "basados en sus gustos. Lo que necesitamos para implementar el algoritmo es una lista de\n",
        "usuarios (filas) y sus gustos o características (columnas). Cada característica va en una\n",
        "columna diferente y, por simplicidad, está calificada en la misma escala (i.e. de 0 a 1). La idea\n",
        "es que, a través de las características, podamos encontrar personas similares. La hipótesis\n",
        "básica es: “dos usuarios son similares en la medida en que sus características son similares”\n",
        "En este ejercicio vamos a revisar algunas ideas nuevas:\n",
        "● usuario\n",
        "● características\n",
        "● vector de características\n",
        "● distancia\n",
        "● vecindario de usuarios\n",
        "● fuerza del vínculo\n",
        "1. Crear entre todo el grupo una lista de ingredientes de pizza que estén en un menú de un\n",
        "restaurante famoso de la ciudad. Todos los miembros del salón llenamos una encuesta de\n",
        "ingredientes dándole un valor a todos los ingredientes entre 1 y 10. 1= No me gusta, 10= me\n",
        "encanta.\n",
        "\n",
        "2. Una vez que todos llenemos la encuesta, creamos un programa de computador para calcular\n",
        "la Distancia entre un usuario y los demás. Para esto típicamente se usa la distancia Coseno,\n",
        "(realizada en el sprint anterior) que consiste en usar el vector de características (todas las\n",
        "respuestas de las características de cada usuario) para medir la distancia entre dos usuarios.\n",
        "\n",
        "3. Luego, seleccionamos un valor arbitrario de K vecinos (usualmente la raiz cuadrada del\n",
        "número total de usuarios) y con este valor encontramos los K vecinos más cercanos a cada\n",
        "usuario. Es decir escogemos los K usuarios que están a menor distancia del usuario\n",
        "seleccionado. Finalmente, presentamos el usuario seleccionado, sus K vecinos más cercanos y\n",
        "la distancia entre el usuario y sus vecinos cercanos.\n",
        "\n",
        "4. La entrega de este ejercicio es un algoritmo funcional cuyas entradas son: el nombre P de\n",
        "una persona del grupo y el valor de K. La salida es el “vecindario de usuarios” o el grupo de K\n",
        "usuarios más cercanos a la persona P de toda la base de datos, indicando el valor de distancia\n",
        "o la “fuerza del vínculo”.\n",
        "\n",
        "5. Reflexionar qué influencia tiene el algoritmo KNN en un sistema de recomendación en el\n",
        "contexto pospuesto de una pizzería. Identificar por lo menos un contexto nuevo en el cual este\n",
        "algoritmo pueda ser utilizado provechosamente para realizar decisiones para grupos. Para esta\n",
        "reflexión debemos pensar que P, dependiendo de la base de datos, no necesariamente es una\n",
        "persona, también puede ser un producto o un servicio.\n",
        "6. Bonus: Quien entregue un ejercicio en donde la fuerza del vínculo entre P y los miembros de K\n",
        "se manifieste de manera espacial y no (solo) numérica, tiene 0.5 más en el ejercicio final de la\n",
        "unidad 3 (que vale el 40% del curso)."
      ],
      "metadata": {
        "id": "YYyLb6uk7OOz"
      }
    },
    {
      "cell_type": "markdown",
      "source": [
        "1."
      ],
      "metadata": {
        "id": "n614jDXi9pnM"
      }
    },
    {
      "cell_type": "markdown",
      "source": [
        "# IMPORTAR LIBRERÍAS"
      ],
      "metadata": {
        "id": "mmPg_uAGx_L3"
      }
    },
    {
      "cell_type": "code",
      "source": [
        "import pandas as pd\n",
        "import numpy as np\n",
        "import matplotlib.pyplot as plt\n",
        "import seaborn as sns\n",
        "import ipywidgets as widgets\n",
        "from IPython.display import display, clear_output\n",
        "import networkx as nx"
      ],
      "metadata": {
        "id": "P9EyakTgyLYW"
      },
      "execution_count": 55,
      "outputs": []
    },
    {
      "cell_type": "markdown",
      "source": [
        "# LECTURA DE LOS DATOS"
      ],
      "metadata": {
        "id": "r1dsTzUpyQN-"
      }
    },
    {
      "cell_type": "code",
      "execution_count": 13,
      "metadata": {
        "colab": {
          "base_uri": "https://localhost:8080/"
        },
        "id": "M1OANWjI6FNy",
        "outputId": "2cad7b04-20da-4fe0-a7c9-48fcc89fc095"
      },
      "outputs": [
        {
          "output_type": "stream",
          "name": "stdout",
          "text": [
            "                    Nombre completo  Pepperoni  Jamón  Pollo  Chorizo  \\\n",
            "0               Isaac Calle Cardozo         10      7      6        9   \n",
            "1                      Andres Neira         10     10     10       10   \n",
            "2                  Juan David Avila         10      9      6       10   \n",
            "3                    Santiago Perez         10      6      4       10   \n",
            "4                     Eduardo Mejia         10     10      7        9   \n",
            "5              Juan Sebastián Silva         10     10      1        2   \n",
            "6                Sebastian Gonzalez         10     10      1        5   \n",
            "7                      Jaime Vargas         10      5      6        6   \n",
            "8                  Sebastian Romero         10      8      8        8   \n",
            "9   Lina Isabella Manjarrez Pantoja         10      9      9       10   \n",
            "10                 Juan Pablo Marín          8     10      6       10   \n",
            "11          Santiago Cuadros Mateus          7     10      7        7   \n",
            "12                Alejandra Ordoñez         10      9      8        7   \n",
            "13             Juan David Santacruz         10      8      6        8   \n",
            "14                   Laura Mendieta         10      8      8        6   \n",
            "15                   Isabella Palma         10      8      8        8   \n",
            "16              Juan David Valencia         10      9      8       10   \n",
            "17                     Anne Solarte          4      6     10        6   \n",
            "18                    Andrea Oviedo         10     10      8        1   \n",
            "19                 Isabella Naranjo         10      5      6        3   \n",
            "20                             Monk         10      8      8        7   \n",
            "21                     Majo Hurtado          6      8      7        5   \n",
            "\n",
            "    Tocineta  Champiñones  Pimientos  Cebolla  Maíz tierno  Jalapeños  Piña  \\\n",
            "0         10            7          1        7            5          1     8   \n",
            "1         10           10         10       10           10         10    10   \n",
            "2          7            8          4        4            6          1     1   \n",
            "3         10            4          1        5            8          1    10   \n",
            "4         10            5          4       10            3          4    10   \n",
            "5          5           10          1        1            5          1    10   \n",
            "6         10            6          8        1           10          1    10   \n",
            "7         10            1          9        7            7          7     7   \n",
            "8          9            8          1        1            8          1    10   \n",
            "9         10           10          2        1            8          1     1   \n",
            "10        10            1          1        4            1          1     5   \n",
            "11        10            1          1        1            1          1     1   \n",
            "12         9            8          6        7            5          3     1   \n",
            "13        10           10         10        5            1         10     4   \n",
            "14         5            9          7        4            8          1    10   \n",
            "15         9            8          1        1            8          1     4   \n",
            "16        10            7          2        1            8          1    10   \n",
            "17         9           10         10        6           10         10    10   \n",
            "18         3            5          7        1            8         10     1   \n",
            "19        10            1          1        7           10          1    10   \n",
            "20         9            6          6        5           10          7     6   \n",
            "21        10           10          6        1           10          1     9   \n",
            "\n",
            "    Aceitunas negras  Ciruela  Tomate  Queso  Maduro  Salami  Burrata  \n",
            "0                  3        3       9     10      10      10        5  \n",
            "1                 10       10      10     10      10      10       10  \n",
            "2                  1        1       1     10       1      10        8  \n",
            "3                  1        1       6     10      10       7        5  \n",
            "4                  1        1       3     10       6       8        4  \n",
            "5                  1        1       1      3       1      10        1  \n",
            "6                  1        1       6     10      10       8       10  \n",
            "7                  1        2       8     10       2       5        9  \n",
            "8                  1        1       5     10       8       8        5  \n",
            "9                  1        1       7     10       9       5        5  \n",
            "10                 1        1       1     10      10       8        5  \n",
            "11                 1        1       1     10       1      10        5  \n",
            "12                 1        1      10     10       1       8        1  \n",
            "13                 1        4       6     10       6      10        5  \n",
            "14                 1        1       9     10      10      10        1  \n",
            "15                 1        1       3     10       9       8        2  \n",
            "16                 1        1       6     10       9      10        5  \n",
            "17                 1        1      10     10      10       6       10  \n",
            "18                 1        1       4     10       1       9        7  \n",
            "19                 1        1       6     10      10      10       10  \n",
            "20                 8        1       8     10       1      10       10  \n",
            "21                 1        1      10     10      10       7        7  \n"
          ]
        }
      ],
      "source": [
        "df = pd.read_csv(\"https://docs.google.com/spreadsheets/d/e/2PACX-1vQnVeQDEcpRRstFD_DwuFSqB8itOSXOBaIjMKgj9zymz7bbWAcJL_q1ZoYUkh-_s082fSHdzSHSoZq_/pub?gid=0&single=true&output=csv\")\n",
        "df.set_index('Nombre completo', inplace=True)\n",
        "print(df)"
      ]
    },
    {
      "cell_type": "markdown",
      "source": [
        "# 2. Similitud Coseno"
      ],
      "metadata": {
        "id": "itNniPgBNXKa"
      }
    },
    {
      "cell_type": "code",
      "source": [
        "usuarios = list(df.index)\n",
        "dropdown_usuario1 = widgets.Dropdown(options=usuarios, description=\"Usuario A:\")\n",
        "dropdown_usuario2 = widgets.Dropdown(options=usuarios, description=\"Usuario B:\")\n",
        "\n",
        "display(dropdown_usuario1, dropdown_usuario2)\n",
        "\n",
        "def similitud_coseno(usuario_A, usuario_B):\n",
        "    producto_punto = np.dot(usuario_A, usuario_B)\n",
        "    norma_A = np.linalg.norm(usuario_A)\n",
        "    norma_B = np.linalg.norm(usuario_B)\n",
        "    return producto_punto / (norma_A * norma_B)\n",
        "\n",
        "def calcular_similitud(usuario1, usuario2):\n",
        "    if usuario1 == usuario2:\n",
        "        print(\"Por favor selecciona dos usuarios diferentes.\")\n",
        "        return\n",
        "    usuario_A = df.loc[usuario1]\n",
        "    usuario_B = df.loc[usuario2]\n",
        "    similitud = similitud_coseno(usuario_A, usuario_B)\n",
        "    print(f\"Similitud entre {usuario1} y {usuario2}: {similitud:.4f}\")\n",
        "\n",
        "boton_calcular = widgets.Button(description=\"Calcular Similitud\")\n",
        "output = widgets.Output()\n",
        "\n",
        "def on_button_click(b):\n",
        "    with output:\n",
        "        output.clear_output()\n",
        "        calcular_similitud(dropdown_usuario1.value, dropdown_usuario2.value)\n",
        "\n",
        "boton_calcular.on_click(on_button_click)\n",
        "\n",
        "display(boton_calcular, output)\n"
      ],
      "metadata": {
        "colab": {
          "base_uri": "https://localhost:8080/",
          "height": 128,
          "referenced_widgets": [
            "296d6820d7bf4b1c873b49851ac01140",
            "862b58893b43422c99e6326a53db389a",
            "42ce0c1a12c54b69a320c95f4dc6a17e",
            "a733a6d1ef8b477b8192e47742bdb0ac",
            "fa2553d4582e422fa7d2faefd76b5df2",
            "54ba08fe14c64ec7a621bf1cfa0eb781",
            "2283fb76fc2d4f6fadd42d62a1cbb09a",
            "4d9c12b8914a415ab48a0ef1255ee8d9",
            "ad0c7008f1ef45a7bf55e893bc2d9fa7",
            "4883ca6863a44627b4d3ab3ffbb8ad3c",
            "2ffce594e006461f85bf193f83ffc561"
          ]
        },
        "id": "lgHWBPMhNWey",
        "outputId": "4f976a1e-0d22-4bb6-b9f4-f23a5f606590"
      },
      "execution_count": 20,
      "outputs": [
        {
          "output_type": "display_data",
          "data": {
            "text/plain": [
              "Dropdown(description='Usuario A:', options=('Isaac Calle Cardozo', 'Andres Neira', 'Juan David Avila', 'Santia…"
            ],
            "application/vnd.jupyter.widget-view+json": {
              "version_major": 2,
              "version_minor": 0,
              "model_id": "296d6820d7bf4b1c873b49851ac01140"
            }
          },
          "metadata": {}
        },
        {
          "output_type": "display_data",
          "data": {
            "text/plain": [
              "Dropdown(description='Usuario B:', options=('Isaac Calle Cardozo', 'Andres Neira', 'Juan David Avila', 'Santia…"
            ],
            "application/vnd.jupyter.widget-view+json": {
              "version_major": 2,
              "version_minor": 0,
              "model_id": "a733a6d1ef8b477b8192e47742bdb0ac"
            }
          },
          "metadata": {}
        },
        {
          "output_type": "display_data",
          "data": {
            "text/plain": [
              "Button(description='Calcular Similitud', style=ButtonStyle())"
            ],
            "application/vnd.jupyter.widget-view+json": {
              "version_major": 2,
              "version_minor": 0,
              "model_id": "2283fb76fc2d4f6fadd42d62a1cbb09a"
            }
          },
          "metadata": {}
        },
        {
          "output_type": "display_data",
          "data": {
            "text/plain": [
              "Output()"
            ],
            "application/vnd.jupyter.widget-view+json": {
              "version_major": 2,
              "version_minor": 0,
              "model_id": "4883ca6863a44627b4d3ab3ffbb8ad3c"
            }
          },
          "metadata": {}
        }
      ]
    },
    {
      "cell_type": "markdown",
      "source": [
        "Puntos 2, 3, 4 y Bonus: Quien entregue un ejercicio en donde la fuerza del vínculo entre P y los miembros de K se manifieste de manera espacial y no (solo) numérica, tiene 0.5 más en el ejercicio final de la unidad 3 (que vale el 40% del curso)."
      ],
      "metadata": {
        "id": "-RUKG8vFZABS"
      }
    },
    {
      "cell_type": "code",
      "source": [
        "dropdown = widgets.Dropdown(\n",
        "    options=df.index,\n",
        "    description='Usuario:',\n",
        "    value='Monk'\n",
        ")\n",
        "\n",
        "boton_actualizar = widgets.Button(\n",
        "    description=\"Actualizar Comparación\",\n",
        "    button_style=\"primary\"\n",
        ")\n",
        "\n",
        "def actualizar_grafico(_):\n",
        "    clear_output(wait=True)\n",
        "    display(dropdown, boton_actualizar)\n",
        "\n",
        "    usuario_seleccionado = dropdown.value\n",
        "    distancias = {}\n",
        "\n",
        "    usuario_datos = df.loc[usuario_seleccionado]\n",
        "    print(f\"Datos del usuario seleccionado:\\n{usuario_datos}\\n\")\n",
        "\n",
        "    for usuario in df.index:\n",
        "        if usuario != usuario_seleccionado:\n",
        "            distancias[usuario] = similitud_coseno(usuario_datos, df.loc[usuario])\n",
        "\n",
        "    K = 5\n",
        "    vecinos_mas_cercanos = sorted(distancias, key=distancias.get, reverse=True)[:K]\n",
        "\n",
        "    for vecino in vecinos_mas_cercanos:\n",
        "        print(f\"Vecino: {vecino}, Similitud: {distancias[vecino]:.4f}\")\n",
        "\n",
        "    G = nx.Graph()\n",
        "\n",
        "    G.add_node(usuario_seleccionado, pos=(0, 0))\n",
        "\n",
        "    max_similitud = max(distancias.values())\n",
        "    min_similitud = min(distancias.values())\n",
        "\n",
        "    for i, vecino in enumerate(vecinos_mas_cercanos):\n",
        "        similitud = distancias[vecino]\n",
        "        distancia_normalizada = 1 - (similitud - min_similitud) / (max_similitud - min_similitud)\n",
        "        distancia = 2 * distancia_normalizada\n",
        "\n",
        "        angle = 2 * np.pi * i / K\n",
        "        x = distancia * np.cos(angle)\n",
        "        y = distancia * np.sin(angle)\n",
        "\n",
        "        G.add_node(vecino, pos=(x, y))\n",
        "\n",
        "        G.add_edge(usuario_seleccionado, vecino, weight=distancias[vecino])\n",
        "\n",
        "    pos = nx.get_node_attributes(G, 'pos')\n",
        "\n",
        "    plt.figure(figsize=(8, 8))\n",
        "    nx.draw(G, pos, with_labels=True, node_size=3000, node_color=\"lightblue\", font_size=10, font_weight=\"bold\")\n",
        "\n",
        "    edges = G.edges(data=True)\n",
        "    nx.draw_networkx_edges(G, pos, edgelist=edges, width=[5 * edge[2]['weight'] for edge in edges])\n",
        "\n",
        "    plt.title(f\"Fuerza del Vínculo entre {usuario_seleccionado} y sus Vecinos Más Cercanos\")\n",
        "    plt.show()\n",
        "\n",
        "boton_actualizar.on_click(actualizar_grafico)\n",
        "\n",
        "display(dropdown, boton_actualizar)"
      ],
      "metadata": {
        "colab": {
          "base_uri": "https://localhost:8080/",
          "height": 1000,
          "referenced_widgets": [
            "0666b4f34bb64a77af150bb497ee1309",
            "81d728abc1954885ab9201258a5cf657",
            "8657922cccda4820ae922d5415096a1b",
            "cfb97e9e6f2e40e98c10d3a7eebbdee6",
            "b6645ef71ddc430faeedf11cd86cf0f6",
            "24076b0ad93f4f4eac2450ff363c81cc"
          ]
        },
        "id": "f3oZnwnH_h4a",
        "outputId": "b4ecd6d7-767b-41a2-f4e9-178fa0bf417d"
      },
      "execution_count": 58,
      "outputs": [
        {
          "output_type": "display_data",
          "data": {
            "text/plain": [
              "Dropdown(description='Usuario:', index=20, options=('Isaac Calle Cardozo', 'Andres Neira', 'Juan David Avila',…"
            ],
            "application/vnd.jupyter.widget-view+json": {
              "version_major": 2,
              "version_minor": 0,
              "model_id": "0666b4f34bb64a77af150bb497ee1309"
            }
          },
          "metadata": {}
        },
        {
          "output_type": "display_data",
          "data": {
            "text/plain": [
              "Button(button_style='primary', description='Actualizar Comparación', style=ButtonStyle())"
            ],
            "application/vnd.jupyter.widget-view+json": {
              "version_major": 2,
              "version_minor": 0,
              "model_id": "cfb97e9e6f2e40e98c10d3a7eebbdee6"
            }
          },
          "metadata": {}
        },
        {
          "output_type": "stream",
          "name": "stdout",
          "text": [
            "Datos del usuario seleccionado:\n",
            "Pepperoni           10\n",
            "Jamón                8\n",
            "Pollo                8\n",
            "Chorizo              7\n",
            "Tocineta             9\n",
            "Champiñones          6\n",
            "Pimientos            6\n",
            "Cebolla              5\n",
            "Maíz tierno         10\n",
            "Jalapeños            7\n",
            "Piña                 6\n",
            "Aceitunas negras     8\n",
            "Ciruela              1\n",
            "Tomate               8\n",
            "Queso               10\n",
            "Maduro               1\n",
            "Salami              10\n",
            "Burrata             10\n",
            "Name: Monk, dtype: int64\n",
            "\n",
            "Vecino: Andres Neira, Similitud: 0.9367\n",
            "Vecino: Jaime Vargas, Similitud: 0.9331\n",
            "Vecino: Juan David Avila, Similitud: 0.9002\n",
            "Vecino: Andrea Oviedo, Similitud: 0.8998\n",
            "Vecino: Alejandra Ordoñez, Similitud: 0.8951\n"
          ]
        },
        {
          "output_type": "display_data",
          "data": {
            "text/plain": [
              "<Figure size 800x800 with 1 Axes>"
            ],
            "image/png": "[encoded data removed]"
          },
          "metadata": {}
        }
      ]
    },
    {
      "cell_type": "markdown",
      "source": [
        "# 5."
      ],
      "metadata": {
        "id": "evO0MOhZZZB-"
      }
    },
    {
      "cell_type": "markdown",
      "source": [
        "El algoritmo KNN (K-Nearest Neighbors) resulta especialmente práctico en sistemas de recomendación, ya que permite identificar elementos similares a uno principal, como usuarios, productos o servicios. Al encontrar similitudes, KNN facilita mostrar recomendaciones más personalizadas y cercanas a los intereses del usuario.\n",
        "\n",
        "En el caso de una pizzería, como en el proyecto de este sprint, KNN puede ayudar mucho a mejorar la personalización de recomendaciones. Si un cliente, por ejemplo, pide frecuentemente pizzas con ciertos ingredientes, el sistema podría sugerirle opciones parecidas que no ha probado, pero que se alinean con su gusto. Además, si se identifican patrones de preferencias en grupos grandes de clientes, podrían crearse combos o promociones adaptadas a esos gustos compartidos.\n",
        "\n",
        "Este enfoque también funciona muy bien en una app de compras, donde al analizar los productos que alguien compra, el sistema puede recomendar artículos parecidos que tengan características que podrían interesarle y animarlo a regresar.\n",
        "\n",
        "En definitiva, KNN es ideal para agrupar elementos similares a uno en específico, lo que lo convierte en una herramienta muy útil para construir recomendaciones relevantes y efectivas en distintos contextos."
      ],
      "metadata": {
        "id": "L9jxcaWzZatl"
      }
    }
  ]
}